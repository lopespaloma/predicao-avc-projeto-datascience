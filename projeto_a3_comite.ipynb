{
  "nbformat": 4,
  "nbformat_minor": 0,
  "metadata": {
    "colab": {
      "provenance": [],
      "include_colab_link": true
    },
    "kernelspec": {
      "name": "python3",
      "display_name": "Python 3"
    },
    "language_info": {
      "name": "python"
    }
  },
  "cells": [
    {
      "cell_type": "markdown",
      "metadata": {
        "id": "view-in-github",
        "colab_type": "text"
      },
      "source": [
        "<a href=\"https://colab.research.google.com/github/lopespaloma/predicao-avc-projeto-datascience/blob/main/projeto_a3_comite.ipynb\" target=\"_parent\"><img src=\"https://colab.research.google.com/assets/colab-badge.svg\" alt=\"Open In Colab\"/></a>"
      ]
    },
    {
      "cell_type": "code",
      "source": [
        "import pandas as pd\n",
        "import numpy as np\n",
        "from sklearn.model_selection import train_test_split"
      ],
      "metadata": {
        "id": "JBDQVwiN2X3q"
      },
      "execution_count": null,
      "outputs": []
    },
    {
      "cell_type": "code",
      "source": [
        "dataset = pd.read_csv(\"dados-regressao-logistica-tratados.csv\", delimiter=\",\")"
      ],
      "metadata": {
        "id": "IlVq4Tn89Ctz"
      },
      "execution_count": null,
      "outputs": []
    },
    {
      "cell_type": "code",
      "source": [
        "x_train, x_test, y_train, y_test = train_test_split(dataset.drop('AVC', axis=1),\n",
        "                                                    dataset['AVC'],\n",
        "                                                    test_size=0.3,\n",
        "                                                    random_state=101)"
      ],
      "metadata": {
        "id": "uwvjAYDx9GSB"
      },
      "execution_count": null,
      "outputs": []
    },
    {
      "cell_type": "markdown",
      "source": [
        "# Árvore de Decisão"
      ],
      "metadata": {
        "id": "siUKMfFIyeYK"
      }
    },
    {
      "cell_type": "code",
      "source": [
        "from sklearn.tree import DecisionTreeClassifier"
      ],
      "metadata": {
        "id": "N9ztWR2Ay8Q7"
      },
      "execution_count": null,
      "outputs": []
    },
    {
      "cell_type": "code",
      "source": [
        "tree_model = DecisionTreeClassifier(criterion='entropy', max_depth=5)\n",
        "tree_model.fit(x_train, y_train)\n",
        "\n",
        "tree_predictions = tree_model.predict(x_test)\n",
        "tree_predictions"
      ],
      "metadata": {
        "colab": {
          "base_uri": "https://localhost:8080/"
        },
        "id": "Kz8q725xzYrh",
        "outputId": "87f51230-d0ad-46f7-8c8b-30bf05c43510"
      },
      "execution_count": null,
      "outputs": [
        {
          "output_type": "execute_result",
          "data": {
            "text/plain": [
              "array([0, 0, 0, 1, 1, 0, 0, 0, 1, 0, 0, 1, 1, 1, 0, 0, 0, 0, 1, 1, 1, 0,\n",
              "       1, 1, 0, 0, 1, 0, 0, 1, 0, 1, 1, 1, 0, 0, 1, 1, 1, 1, 0, 0, 0, 1,\n",
              "       0, 1, 0, 0, 0, 0, 0, 0, 1, 0, 1, 1, 0, 0, 1, 1, 1, 1, 1, 0, 0, 0,\n",
              "       1, 0, 1, 1, 0, 1, 1, 1, 1, 0, 0, 1, 1, 0, 1, 1, 0, 0, 1, 1, 1, 1,\n",
              "       1, 0, 1, 0, 0, 1, 1, 1, 1, 1, 1, 1, 1, 1, 1, 1, 1, 0, 1, 1, 1, 0,\n",
              "       1, 1, 1, 1, 1, 1, 0, 0, 0, 0, 1, 1, 0, 1, 1, 1, 1, 0, 1, 0, 1, 1,\n",
              "       0, 0, 0, 1, 1, 0, 0, 0, 1, 1, 1, 0, 1, 0, 0, 0, 1, 1])"
            ]
          },
          "metadata": {},
          "execution_count": 5
        }
      ]
    },
    {
      "cell_type": "markdown",
      "source": [
        "# Regressão Logística"
      ],
      "metadata": {
        "id": "X7gN4W2GynNR"
      }
    },
    {
      "cell_type": "code",
      "source": [
        "from sklearn.linear_model import LogisticRegression"
      ],
      "metadata": {
        "id": "3Miv80zZzgUM"
      },
      "execution_count": null,
      "outputs": []
    },
    {
      "cell_type": "code",
      "source": [
        "rl_model = LogisticRegression(solver='lbfgs', max_iter=1000)\n",
        "rl_model.fit(x_train, y_train)\n",
        "\n",
        "rl_predictions = rl_model.predict(x_test)\n",
        "rl_predictions"
      ],
      "metadata": {
        "colab": {
          "base_uri": "https://localhost:8080/"
        },
        "id": "nVl6LDg_z8rA",
        "outputId": "ea403372-5b59-4d49-c451-9487b8f33a9f"
      },
      "execution_count": null,
      "outputs": [
        {
          "output_type": "execute_result",
          "data": {
            "text/plain": [
              "array([0, 0, 0, 1, 1, 0, 0, 0, 0, 0, 1, 1, 1, 1, 0, 1, 0, 0, 1, 0, 1, 0,\n",
              "       1, 0, 0, 0, 0, 0, 0, 1, 0, 1, 1, 1, 0, 0, 1, 1, 1, 1, 0, 0, 1, 1,\n",
              "       0, 1, 0, 0, 0, 0, 0, 1, 1, 0, 1, 1, 0, 0, 1, 0, 1, 1, 1, 0, 0, 1,\n",
              "       1, 0, 0, 1, 0, 1, 1, 1, 1, 0, 0, 1, 1, 0, 0, 1, 0, 0, 0, 1, 1, 1,\n",
              "       1, 0, 1, 0, 0, 1, 1, 0, 0, 1, 1, 0, 1, 1, 1, 0, 0, 0, 1, 0, 0, 0,\n",
              "       1, 1, 1, 1, 1, 1, 0, 0, 0, 0, 1, 1, 0, 1, 1, 0, 1, 0, 0, 0, 0, 1,\n",
              "       0, 0, 0, 1, 0, 0, 0, 0, 1, 1, 1, 0, 1, 0, 0, 0, 1, 0])"
            ]
          },
          "metadata": {},
          "execution_count": 7
        }
      ]
    },
    {
      "cell_type": "markdown",
      "source": [
        "# K-Nearest Neighbors (KNN)"
      ],
      "metadata": {
        "id": "gqFHn3rGysQf"
      }
    },
    {
      "cell_type": "code",
      "source": [
        "from sklearn.neighbors import KNeighborsClassifier"
      ],
      "metadata": {
        "id": "nL5IW7-j064h"
      },
      "execution_count": null,
      "outputs": []
    },
    {
      "cell_type": "code",
      "source": [
        "knn_model = KNeighborsClassifier(n_neighbors=5, metric='euclidean')\n",
        "knn_model.fit(x_train, y_train)\n",
        "\n",
        "knn_predictions = knn_model.predict(x_test)\n",
        "knn_predictions"
      ],
      "metadata": {
        "colab": {
          "base_uri": "https://localhost:8080/"
        },
        "id": "7spuvqQy1G4-",
        "outputId": "8d88b496-480c-49c9-8569-6081fa2527a1"
      },
      "execution_count": null,
      "outputs": [
        {
          "output_type": "execute_result",
          "data": {
            "text/plain": [
              "array([0, 1, 0, 1, 0, 0, 0, 0, 0, 0, 1, 0, 1, 1, 1, 1, 0, 0, 0, 0, 1, 0,\n",
              "       1, 0, 0, 0, 1, 0, 0, 1, 0, 1, 1, 1, 0, 0, 1, 1, 1, 1, 0, 0, 1, 1,\n",
              "       1, 1, 1, 0, 0, 0, 0, 1, 0, 0, 1, 1, 0, 0, 1, 0, 1, 1, 1, 0, 0, 1,\n",
              "       1, 0, 1, 1, 0, 1, 1, 1, 1, 0, 0, 1, 1, 0, 1, 1, 0, 0, 0, 0, 1, 1,\n",
              "       1, 0, 1, 0, 0, 1, 1, 1, 0, 0, 1, 1, 0, 1, 1, 1, 1, 0, 1, 0, 1, 0,\n",
              "       1, 1, 1, 1, 1, 1, 0, 1, 0, 0, 1, 1, 0, 1, 1, 1, 1, 0, 1, 0, 0, 1,\n",
              "       0, 0, 0, 1, 0, 0, 0, 0, 1, 1, 1, 0, 1, 0, 0, 0, 1, 1])"
            ]
          },
          "metadata": {},
          "execution_count": 9
        }
      ]
    },
    {
      "cell_type": "markdown",
      "source": [
        "# Comitê"
      ],
      "metadata": {
        "id": "n2MJvIzzy35h"
      }
    },
    {
      "cell_type": "markdown",
      "source": [],
      "metadata": {
        "id": "EdUokmPwRBXe"
      }
    },
    {
      "cell_type": "code",
      "source": [
        "from statistics import mode\n",
        "\n",
        "def gerar_saidas_comite(saidas_1, saidas_2, saidas_3):\n",
        "  lista_de_saida = []\n",
        "  indice = 0\n",
        "\n",
        "  while indice < 150:\n",
        "    saidas_da_vez = [saidas_1[indice], saidas_2[indice], saidas_3[indice]]\n",
        "    lista_de_saida.append(mode(saidas_da_vez))\n",
        "    indice += 1\n",
        "\n",
        "  return np.array(lista_de_saida)\n",
        "\n",
        "saidas_do_comite = gerar_saidas_comite(tree_predictions, rl_predictions, knn_predictions)\n",
        "saidas_do_comite"
      ],
      "metadata": {
        "colab": {
          "base_uri": "https://localhost:8080/"
        },
        "id": "6QKsOSJD5sa7",
        "outputId": "84b08f3a-99dd-4b42-a35c-f6856cd88fe7"
      },
      "execution_count": null,
      "outputs": [
        {
          "output_type": "execute_result",
          "data": {
            "text/plain": [
              "array([0, 0, 0, 1, 1, 0, 0, 0, 0, 0, 1, 1, 1, 1, 0, 1, 0, 0, 1, 0, 1, 0,\n",
              "       1, 0, 0, 0, 1, 0, 0, 1, 0, 1, 1, 1, 0, 0, 1, 1, 1, 1, 0, 0, 1, 1,\n",
              "       0, 1, 0, 0, 0, 0, 0, 1, 1, 0, 1, 1, 0, 0, 1, 0, 1, 1, 1, 0, 0, 1,\n",
              "       1, 0, 1, 1, 0, 1, 1, 1, 1, 0, 0, 1, 1, 0, 1, 1, 0, 0, 0, 1, 1, 1,\n",
              "       1, 0, 1, 0, 0, 1, 1, 1, 0, 1, 1, 1, 1, 1, 1, 1, 1, 0, 1, 0, 1, 0,\n",
              "       1, 1, 1, 1, 1, 1, 0, 0, 0, 0, 1, 1, 0, 1, 1, 1, 1, 0, 1, 0, 0, 1,\n",
              "       0, 0, 0, 1, 0, 0, 0, 0, 1, 1, 1, 0, 1, 0, 0, 0, 1, 1])"
            ]
          },
          "metadata": {},
          "execution_count": 10
        }
      ]
    },
    {
      "cell_type": "code",
      "source": [
        "print(\"\\nMatriz de confusão detalhada:\\n\",\n",
        "      pd.crosstab(y_test, saidas_do_comite,\n",
        "                  rownames= ['Real'],\n",
        "                  colnames=['Predito'],\n",
        "                  margins=True,\n",
        "                  margins_name ='Todos'))"
      ],
      "metadata": {
        "colab": {
          "base_uri": "https://localhost:8080/"
        },
        "id": "8AFRT5hR_ASn",
        "outputId": "aac4d021-88bc-4d82-8291-76e8ba90a6fc"
      },
      "execution_count": null,
      "outputs": [
        {
          "output_type": "stream",
          "name": "stdout",
          "text": [
            "\n",
            "Matriz de confusão detalhada:\n",
            " Predito   0   1  Todos\n",
            "Real                  \n",
            "0        59  22     81\n",
            "1        10  59     69\n",
            "Todos    69  81    150\n"
          ]
        }
      ]
    },
    {
      "cell_type": "code",
      "source": [
        "from sklearn import metrics\n",
        "print('MAE:', metrics.mean_absolute_error(y_test, saidas_do_comite))\n",
        "print('MSE:', metrics.mean_squared_error(y_test, saidas_do_comite))\n",
        "print('RMSE:', np.sqrt(metrics.mean_squared_error(y_test, saidas_do_comite)))"
      ],
      "metadata": {
        "colab": {
          "base_uri": "https://localhost:8080/"
        },
        "id": "ZxEDTJU4-W-G",
        "outputId": "f5903a43-1d9b-4b4d-fe2b-02d6b095dad8"
      },
      "execution_count": null,
      "outputs": [
        {
          "output_type": "stream",
          "name": "stdout",
          "text": [
            "MAE: 0.21333333333333335\n",
            "MSE: 0.21333333333333335\n",
            "RMSE: 0.46188021535170065\n"
          ]
        }
      ]
    },
    {
      "cell_type": "code",
      "source": [
        "import matplotlib.pyplot as plt\n",
        "import seaborn as sns\n",
        "%matplotlib inline\n",
        "\n",
        "from sklearn.metrics import accuracy_score\n",
        "acuracia = accuracy_score(y_test, saidas_do_comite)\n",
        "print(f\"Acurácia do comitê: {acuracia:.2f}\")"
      ],
      "metadata": {
        "colab": {
          "base_uri": "https://localhost:8080/"
        },
        "id": "-VmlLTy7_PdW",
        "outputId": "c281327c-f5fb-4301-d44e-4a9847cbffe4"
      },
      "execution_count": null,
      "outputs": [
        {
          "output_type": "stream",
          "name": "stdout",
          "text": [
            "Acurácia do comitê: 0.74\n"
          ]
        }
      ]
    },
    {
      "cell_type": "code",
      "source": [
        "from sklearn.metrics import classification_report\n",
        "print(classification_report(y_test, saidas_do_comite))"
      ],
      "metadata": {
        "colab": {
          "base_uri": "https://localhost:8080/"
        },
        "id": "66FrENrD_kvl",
        "outputId": "0caeddf5-cf85-4e28-b5f5-3d55061c404d"
      },
      "execution_count": null,
      "outputs": [
        {
          "output_type": "stream",
          "name": "stdout",
          "text": [
            "              precision    recall  f1-score   support\n",
            "\n",
            "           0       0.76      0.75      0.76        81\n",
            "           1       0.71      0.72      0.72        69\n",
            "\n",
            "    accuracy                           0.74       150\n",
            "   macro avg       0.74      0.74      0.74       150\n",
            "weighted avg       0.74      0.74      0.74       150\n",
            "\n"
          ]
        }
      ]
    },
    {
      "cell_type": "code",
      "source": [
        "scores = []\n",
        "for i in range(500):\n",
        "  x_train, x_test, y_train, y_test = train_test_split(dataset.drop('AVC', axis=1),\n",
        "                                                      dataset['AVC'],\n",
        "                                                      test_size=0.3)\n",
        "\n",
        "  tree_model = DecisionTreeClassifier(criterion='entropy', max_depth=5)\n",
        "  tree_model.fit(x_train, y_train)\n",
        "  tree_predictions = tree_model.predict(x_test)\n",
        "\n",
        "  rl_model = LogisticRegression(solver='lbfgs', max_iter=1000)\n",
        "  rl_model.fit(x_train, y_train)\n",
        "  rl_predictions = rl_model.predict(x_test)\n",
        "\n",
        "  knn_model = KNeighborsClassifier(n_neighbors=5, metric='euclidean')\n",
        "  knn_model.fit(x_train, y_train)\n",
        "  knn_predictions = knn_model.predict(x_test)\n",
        "\n",
        "  saidas_do_comite = gerar_saidas_comite(tree_predictions, rl_predictions, knn_predictions)\n",
        "\n",
        "  acuracia = accuracy_score(y_test, saidas_do_comite)\n",
        "\n",
        "  scores.append(round(acuracia, 2))"
      ],
      "metadata": {
        "id": "H2CySBdA_vlp"
      },
      "execution_count": null,
      "outputs": []
    },
    {
      "cell_type": "code",
      "source": [
        "print(\"Média: {:.2f}%\".format(np.mean(scores)*100))\n",
        "print(\"Desvio padrão: {:.2f}%\".format(np.std(scores)*100))\n",
        "sns.histplot(scores, kde=True)\n",
        "plt.yticks([])\n",
        "plt.title(\"Acurácias do comitê de IAs\")\n",
        "plt.show()"
      ],
      "metadata": {
        "colab": {
          "base_uri": "https://localhost:8080/",
          "height": 487
        },
        "id": "rWxavEeACtsz",
        "outputId": "e666549f-2af8-410c-9301-0a7c4d8ca7f1"
      },
      "execution_count": null,
      "outputs": [
        {
          "output_type": "stream",
          "name": "stdout",
          "text": [
            "Média: 76.42%\n",
            "Desvio padrão: 3.06%\n"
          ]
        },
        {
          "output_type": "display_data",
          "data": {
            "text/plain": [
              "<Figure size 640x480 with 1 Axes>"
            ],
            "image/png": "[encoded data removed]"
          },
          "metadata": {}
        }
      ]
    }
  ]
}