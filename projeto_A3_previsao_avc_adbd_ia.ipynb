{
  "nbformat": 4,
  "nbformat_minor": 0,
  "metadata": {
    "colab": {
      "provenance": [],
      "authorship_tag": "ABX9TyNqlsofeg1MbeNslnscaEhO",
      "include_colab_link": true
    },
    "kernelspec": {
      "name": "python3",
      "display_name": "Python 3"
    },
    "language_info": {
      "name": "python"
    }
  },
  "cells": [
    {
      "cell_type": "markdown",
      "metadata": {
        "id": "view-in-github",
        "colab_type": "text"
      },
      "source": [
        "<a href=\"https://colab.research.google.com/github/lopespaloma/avc-projeto-analise-dados-bigdata/blob/main/projeto_A3_previsao_avc_adbd_ia.ipynb\" target=\"_parent\"><img src=\"https://colab.research.google.com/assets/colab-badge.svg\" alt=\"Open In Colab\"/></a>"
      ]
    },
    {
      "cell_type": "markdown",
      "source": [
        "#PROJETO A3 | ANÁLISE DE DADOS E BIG DATA & INTELIGÊNCIA ARTIFICIAL"
      ],
      "metadata": {
        "id": "zB0faFKpDOgd"
      }
    },
    {
      "cell_type": "markdown",
      "source": [
        "**Integrantes do grupo**\n",
        "\n",
        "<br>\n",
        "\n",
        "NOME | RA\n",
        "--- | ---\n",
        "Gustavo Buenos Aires Colpaert | 823126177\n",
        "Stephany Silva Dantas | 822223694\n",
        "Paloma Lopes de Sousa | 822167506\n",
        "Bianca Alves Ribeiro | 8222240261\n",
        "Lucas Vasconcellos | 8222242709\n",
        "Sara Alves| 822224386\n",
        "Fernando Fukunaga | 821232457\n",
        "<br>\n",
        "\n",
        "**Descrição do Projeto**\n",
        "\n",
        "......................................................\n",
        "....................................................."
      ],
      "metadata": {
        "id": "zscmON3LFLeI"
      }
    },
    {
      "cell_type": "markdown",
      "source": [
        "**Tratamento de dados**"
      ],
      "metadata": {
        "id": "j8u96iYnDBs8"
      }
    },
    {
      "cell_type": "code",
      "source": [
        "import pandas as pd\n",
        "import numpy as np"
      ],
      "metadata": {
        "id": "DgBeJjI3JcX-"
      },
      "execution_count": 1,
      "outputs": []
    },
    {
      "cell_type": "code",
      "source": [
        "avc_dataset = pd.read_csv('healthcare-dataset-stroke-data.csv' , delimiter= ';')"
      ],
      "metadata": {
        "id": "Ap3I33JgPPoc"
      },
      "execution_count": null,
      "outputs": []
    }
  ]
}